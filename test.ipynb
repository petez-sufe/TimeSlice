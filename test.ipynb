{
 "cells": [
  {
   "cell_type": "code",
   "execution_count": 1,
   "metadata": {},
   "outputs": [
    {
     "name": "stdout",
     "output_type": "stream",
     "text": [
      "630 images have been identified.\n",
      "30 files ignored. Applying early ignore mode.\n",
      "600 images have been pre-selected.\n",
      "50 images have been selected for timeslice image.\n",
      "Start cropping images in single image mode...\n"
     ]
    },
    {
     "name": "stderr",
     "output_type": "stream",
     "text": [
      "100%|██████████| 50/50 [00:12<00:00,  3.87it/s]\n"
     ]
    },
    {
     "name": "stdout",
     "output_type": "stream",
     "text": [
      "Cropping completed. Cropped files saved under /Volumes/Photography Disk/20220618 Brooklyn Sunset/1635/LR/processed/\n",
      "Start stitching...\n",
      "50\n",
      "Image successfully exported to /Volumes/Photography Disk/20220618 Brooklyn Sunset/1635/LR/Final/FinalResult_50.jpg\n",
      "(122, 4000)\n",
      "Start cropping images in multi image mode...\n"
     ]
    },
    {
     "name": "stderr",
     "output_type": "stream",
     "text": [
      "100%|██████████| 49/49 [00:24<00:00,  2.01it/s]\n"
     ]
    },
    {
     "name": "stdout",
     "output_type": "stream",
     "text": [
      "Cropping completed. Cropped files saved under /Volumes/Photography Disk/20220618 Brooklyn Sunset/1635/LR/processedmulti/\n",
      "Start stitching...\n",
      "49\n",
      "Image successfully exported to /Volumes/Photography Disk/20220618 Brooklyn Sunset/1635/LR/Final/FinalResult_50_Gradient.jpg\n",
      "Start creating slicelapse photo sequence...\n"
     ]
    },
    {
     "name": "stderr",
     "output_type": "stream",
     "text": [
      "100%|██████████| 600/600 [05:45<00:00,  1.74it/s]"
     ]
    },
    {
     "name": "stdout",
     "output_type": "stream",
     "text": [
      "Slicelapse photo sequence created successfully.\n"
     ]
    },
    {
     "name": "stderr",
     "output_type": "stream",
     "text": [
      "\n"
     ]
    }
   ],
   "source": [
    "from timelapse_slicer import timelapse_slicer\n",
    "timelapse_slicer.slicer('/Volumes/Photography Disk/20220618 Brooklyn Sunset/1635/LR', 50)"
   ]
  },
  {
   "cell_type": "code",
   "execution_count": null,
   "metadata": {},
   "outputs": [],
   "source": []
  }
 ],
 "metadata": {
  "kernelspec": {
   "display_name": "Python 3.8.12 ('py38')",
   "language": "python",
   "name": "python3"
  },
  "language_info": {
   "codemirror_mode": {
    "name": "ipython",
    "version": 3
   },
   "file_extension": ".py",
   "mimetype": "text/x-python",
   "name": "python",
   "nbconvert_exporter": "python",
   "pygments_lexer": "ipython3",
   "version": "3.8.12"
  },
  "orig_nbformat": 4,
  "vscode": {
   "interpreter": {
    "hash": "e340a0a01ab186b377b016c01aa7d5d1230eddf285ffed81230a024c78a4da64"
   }
  }
 },
 "nbformat": 4,
 "nbformat_minor": 2
}
